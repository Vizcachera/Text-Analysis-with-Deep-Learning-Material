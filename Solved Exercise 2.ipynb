{
 "cells": [
  {
   "cell_type": "markdown",
   "metadata": {},
   "source": [
    "<div style=\"text-align: right\"><a href=\"http://ml-school.uni-koeln.de\">Virtual Summer School \"Deep Learning for\n",
    "    Language Analysis\"</a> <br/><strong>Text Analysis with Deep Learning</strong><br/>Aug 30 — Sep 3, 2021<br/>Nils Reiter<br/><a href=\"mailto:nils.reiter@uni-koeln.de\">nils.reiter@uni-koeln.de</a></div>\n",
    "\n",
    "# Exercise 2\n",
    "\n",
    "This exercise is about sequence labeling. A sequence of items (words, in this case) must the tagged with a sequence of labels. In this case the labels are named entity tags in the BIO scheme.\n",
    "\n",
    "The data we will be using comes from the Groningen Meaning Bank (GMB). Its annotation scheme can be found [here](http://www.let.rug.nl/bjerva/gmb/manual.php). As always, we will first preprocess the data, and then create and train the model."
   ]
  },
  {
   "cell_type": "code",
   "execution_count": null,
   "metadata": {},
   "outputs": [],
   "source": [
    "# limit GPU memory to 4 GB\n",
    "import tensorflow as tf\n",
    "gpus = tf.config.experimental.list_physical_devices('GPU')\n",
    "if gpus:\n",
    "    try:\n",
    "        tf.config.experimental.set_virtual_device_configuration(gpus[0], [tf.config.experimental.VirtualDeviceConfiguration(memory_limit=4096)])\n",
    "    except RuntimeError as e:\n",
    "        print(e)"
   ]
  },
  {
   "cell_type": "markdown",
   "metadata": {},
   "source": [
    "Import into a pandas dataframe, and fill missing values. Also, let's look at the head of the table. We also directly encode the strings as integers, using the [numpy-function `np.unique(...)`](https://numpy.org/doc/stable/reference/generated/numpy.unique.html). This will allow us to convert the index numbers back into readable tag strings later on.\n",
    "\n",
    "For padding (see below), we will be using `_____` as a \"word\", and `O` as a tag. `_____` needs to be added to the lists of unique words as well."
   ]
  },
  {
   "cell_type": "code",
   "execution_count": 1,
   "metadata": {},
   "outputs": [
    {
     "data": {
      "text/html": [
       "<div>\n",
       "<style scoped>\n",
       "    .dataframe tbody tr th:only-of-type {\n",
       "        vertical-align: middle;\n",
       "    }\n",
       "\n",
       "    .dataframe tbody tr th {\n",
       "        vertical-align: top;\n",
       "    }\n",
       "\n",
       "    .dataframe thead th {\n",
       "        text-align: right;\n",
       "    }\n",
       "</style>\n",
       "<table border=\"1\" class=\"dataframe\">\n",
       "  <thead>\n",
       "    <tr style=\"text-align: right;\">\n",
       "      <th></th>\n",
       "      <th>Sentence #</th>\n",
       "      <th>Word</th>\n",
       "      <th>POS</th>\n",
       "      <th>Tag</th>\n",
       "      <th>Word_idx</th>\n",
       "      <th>Tag_idx</th>\n",
       "    </tr>\n",
       "  </thead>\n",
       "  <tbody>\n",
       "    <tr>\n",
       "      <th>1</th>\n",
       "      <td>Sentence: 1</td>\n",
       "      <td>of</td>\n",
       "      <td>IN</td>\n",
       "      <td>O</td>\n",
       "      <td>27700</td>\n",
       "      <td>16</td>\n",
       "    </tr>\n",
       "    <tr>\n",
       "      <th>2</th>\n",
       "      <td>Sentence: 1</td>\n",
       "      <td>demonstrators</td>\n",
       "      <td>NNS</td>\n",
       "      <td>O</td>\n",
       "      <td>20969</td>\n",
       "      <td>16</td>\n",
       "    </tr>\n",
       "    <tr>\n",
       "      <th>3</th>\n",
       "      <td>Sentence: 1</td>\n",
       "      <td>have</td>\n",
       "      <td>VBP</td>\n",
       "      <td>O</td>\n",
       "      <td>24218</td>\n",
       "      <td>16</td>\n",
       "    </tr>\n",
       "    <tr>\n",
       "      <th>4</th>\n",
       "      <td>Sentence: 1</td>\n",
       "      <td>marched</td>\n",
       "      <td>VBN</td>\n",
       "      <td>O</td>\n",
       "      <td>26434</td>\n",
       "      <td>16</td>\n",
       "    </tr>\n",
       "    <tr>\n",
       "      <th>5</th>\n",
       "      <td>Sentence: 1</td>\n",
       "      <td>through</td>\n",
       "      <td>IN</td>\n",
       "      <td>O</td>\n",
       "      <td>33389</td>\n",
       "      <td>16</td>\n",
       "    </tr>\n",
       "    <tr>\n",
       "      <th>6</th>\n",
       "      <td>Sentence: 1</td>\n",
       "      <td>London</td>\n",
       "      <td>NNP</td>\n",
       "      <td>B-geo</td>\n",
       "      <td>9684</td>\n",
       "      <td>2</td>\n",
       "    </tr>\n",
       "    <tr>\n",
       "      <th>7</th>\n",
       "      <td>Sentence: 1</td>\n",
       "      <td>to</td>\n",
       "      <td>TO</td>\n",
       "      <td>O</td>\n",
       "      <td>33464</td>\n",
       "      <td>16</td>\n",
       "    </tr>\n",
       "    <tr>\n",
       "      <th>8</th>\n",
       "      <td>Sentence: 1</td>\n",
       "      <td>protest</td>\n",
       "      <td>VB</td>\n",
       "      <td>O</td>\n",
       "      <td>29396</td>\n",
       "      <td>16</td>\n",
       "    </tr>\n",
       "    <tr>\n",
       "      <th>9</th>\n",
       "      <td>Sentence: 1</td>\n",
       "      <td>the</td>\n",
       "      <td>DT</td>\n",
       "      <td>O</td>\n",
       "      <td>33246</td>\n",
       "      <td>16</td>\n",
       "    </tr>\n",
       "    <tr>\n",
       "      <th>10</th>\n",
       "      <td>Sentence: 1</td>\n",
       "      <td>war</td>\n",
       "      <td>NN</td>\n",
       "      <td>O</td>\n",
       "      <td>34660</td>\n",
       "      <td>16</td>\n",
       "    </tr>\n",
       "    <tr>\n",
       "      <th>11</th>\n",
       "      <td>Sentence: 1</td>\n",
       "      <td>in</td>\n",
       "      <td>IN</td>\n",
       "      <td>O</td>\n",
       "      <td>24853</td>\n",
       "      <td>16</td>\n",
       "    </tr>\n",
       "    <tr>\n",
       "      <th>12</th>\n",
       "      <td>Sentence: 1</td>\n",
       "      <td>Iraq</td>\n",
       "      <td>NNP</td>\n",
       "      <td>B-geo</td>\n",
       "      <td>8204</td>\n",
       "      <td>2</td>\n",
       "    </tr>\n",
       "    <tr>\n",
       "      <th>13</th>\n",
       "      <td>Sentence: 1</td>\n",
       "      <td>and</td>\n",
       "      <td>CC</td>\n",
       "      <td>O</td>\n",
       "      <td>17364</td>\n",
       "      <td>16</td>\n",
       "    </tr>\n",
       "    <tr>\n",
       "      <th>14</th>\n",
       "      <td>Sentence: 1</td>\n",
       "      <td>demand</td>\n",
       "      <td>VB</td>\n",
       "      <td>O</td>\n",
       "      <td>20924</td>\n",
       "      <td>16</td>\n",
       "    </tr>\n",
       "    <tr>\n",
       "      <th>15</th>\n",
       "      <td>Sentence: 1</td>\n",
       "      <td>the</td>\n",
       "      <td>DT</td>\n",
       "      <td>O</td>\n",
       "      <td>33246</td>\n",
       "      <td>16</td>\n",
       "    </tr>\n",
       "    <tr>\n",
       "      <th>16</th>\n",
       "      <td>Sentence: 1</td>\n",
       "      <td>withdrawal</td>\n",
       "      <td>NN</td>\n",
       "      <td>O</td>\n",
       "      <td>34973</td>\n",
       "      <td>16</td>\n",
       "    </tr>\n",
       "    <tr>\n",
       "      <th>17</th>\n",
       "      <td>Sentence: 1</td>\n",
       "      <td>of</td>\n",
       "      <td>IN</td>\n",
       "      <td>O</td>\n",
       "      <td>27700</td>\n",
       "      <td>16</td>\n",
       "    </tr>\n",
       "    <tr>\n",
       "      <th>18</th>\n",
       "      <td>Sentence: 1</td>\n",
       "      <td>British</td>\n",
       "      <td>JJ</td>\n",
       "      <td>B-gpe</td>\n",
       "      <td>4010</td>\n",
       "      <td>3</td>\n",
       "    </tr>\n",
       "    <tr>\n",
       "      <th>19</th>\n",
       "      <td>Sentence: 1</td>\n",
       "      <td>troops</td>\n",
       "      <td>NNS</td>\n",
       "      <td>O</td>\n",
       "      <td>33786</td>\n",
       "      <td>16</td>\n",
       "    </tr>\n",
       "  </tbody>\n",
       "</table>\n",
       "</div>"
      ],
      "text/plain": [
       "     Sentence #           Word  POS    Tag  Word_idx  Tag_idx\n",
       "1   Sentence: 1             of   IN      O     27700       16\n",
       "2   Sentence: 1  demonstrators  NNS      O     20969       16\n",
       "3   Sentence: 1           have  VBP      O     24218       16\n",
       "4   Sentence: 1        marched  VBN      O     26434       16\n",
       "5   Sentence: 1        through   IN      O     33389       16\n",
       "6   Sentence: 1         London  NNP  B-geo      9684        2\n",
       "7   Sentence: 1             to   TO      O     33464       16\n",
       "8   Sentence: 1        protest   VB      O     29396       16\n",
       "9   Sentence: 1            the   DT      O     33246       16\n",
       "10  Sentence: 1            war   NN      O     34660       16\n",
       "11  Sentence: 1             in   IN      O     24853       16\n",
       "12  Sentence: 1           Iraq  NNP  B-geo      8204        2\n",
       "13  Sentence: 1            and   CC      O     17364       16\n",
       "14  Sentence: 1         demand   VB      O     20924       16\n",
       "15  Sentence: 1            the   DT      O     33246       16\n",
       "16  Sentence: 1     withdrawal   NN      O     34973       16\n",
       "17  Sentence: 1             of   IN      O     27700       16\n",
       "18  Sentence: 1        British   JJ  B-gpe      4010        3\n",
       "19  Sentence: 1         troops  NNS      O     33786       16"
      ]
     },
     "execution_count": 1,
     "metadata": {},
     "output_type": "execute_result"
    }
   ],
   "source": [
    "import pandas as pd\n",
    "import numpy as np\n",
    "\n",
    "# read in CSV file\n",
    "data = pd.read_csv(\"data/ner/gmb.csv\",encoding = 'latin1')\n",
    "\n",
    "# the first column of the file contains the sentence number\n",
    "# -- but only for the first token of each sentence.\n",
    "# The following line fills the rows downwards.\n",
    "data = data.fillna(method = 'ffill')\n",
    "\n",
    "# create a list of unique words and assign an integer number to it\n",
    "unique_words, coded_words = np.unique(data[\"Word\"], return_inverse=True)\n",
    "data[\"Word_idx\"] = coded_words\n",
    "EMPTY_WORD_IDX = len(unique_words)\n",
    "np.array(unique_words.tolist().append(\"_____\"))\n",
    "num_words = len(unique_words)+1\n",
    "\n",
    "# create a list of unique tags and assign an integer number to it\n",
    "unique_tags, coded_tags = np.unique(data[\"Tag\"], return_inverse=True)\n",
    "data[\"Tag_idx\"]  = coded_tags\n",
    "NO_TAG_IDX = unique_tags.tolist().index(\"O\")\n",
    "num_words_tag = len(unique_tags)\n",
    "\n",
    "# for verification and inspection, we print out the table so far\n",
    "data[1:20]"
   ]
  },
  {
   "cell_type": "markdown",
   "metadata": {},
   "source": [
    "In this step, we convert the table in such a way that we can access individual sentences. The result of the function is a list of list of tuples, with the tuples containing the word, its part of speech tag and its named entity tag."
   ]
  },
  {
   "cell_type": "code",
   "execution_count": 2,
   "metadata": {},
   "outputs": [
    {
     "name": "stdout",
     "output_type": "stream",
     "text": [
      "[(15077, 16), (27700, 16), (20969, 16), (24218, 16), (26434, 16), (33389, 16), (9684, 2), (33464, 16), (29396, 16), (33246, 16), (34660, 16), (24853, 16), (8204, 2), (17364, 16), (20924, 16), (33246, 16), (34973, 16), (27700, 16), (4010, 3), (33786, 16), (23512, 16), (33242, 16), (20368, 16), (24, 16)]\n"
     ]
    }
   ],
   "source": [
    "def get_sentences(data):\n",
    "    n_sent=1\n",
    "    agg_func = lambda s:[(w,t) for w,t in zip(s[\"Word_idx\"].values.tolist(),\n",
    "                                                     s[\"Tag_idx\"].values.tolist())]\n",
    "    grouped = data.groupby(\"Sentence #\").apply(agg_func)\n",
    "    return [s for s in grouped]\n",
    "\n",
    "\n",
    "sentences = get_sentences(data)\n",
    "\n",
    "# print out the first sentence for verification\n",
    "print(sentences[0])\n",
    "\n",
    "# extract list of tokens and list of ne tags\n",
    "x = [ [ w[0] for w in s ] for s in sentences ]\n",
    "y = [ [ w[1] for w in s ] for s in sentences ]"
   ]
  },
  {
   "cell_type": "markdown",
   "metadata": {},
   "source": [
    "## Task 1: Padding\n",
    "\n",
    "Now that we have sentences and tags encoded as integer values and in individual lists, we need to make sure that every input has the same length. This is called \"padding\", and the simple solution is to extend set all sequences with a null value, so that they are of the same length.\n",
    "\n",
    "The padding can be done in two steps:\n",
    "1. Find out how long the longest sentence is (hint: list comprehension!).\n",
    "2. Use the keras function [`pad_sequences()`](https://keras.io/api/preprocessing/timeseries/) to do the padding on the x and y variables.\n"
   ]
  },
  {
   "cell_type": "code",
   "execution_count": 3,
   "metadata": {},
   "outputs": [],
   "source": [
    "from tensorflow.keras.preprocessing.sequence import pad_sequences\n",
    "\n",
    "# find the maximum length for the sentences\n",
    "max_len = max([len(s) for s in x])\n",
    "\n",
    "# shorter sentences are now padded to same length, using (index of) padding symbol\n",
    "x = pad_sequences(maxlen = max_len, sequences = x, padding = 'post', value = EMPTY_WORD_IDX)\n",
    "\n",
    "# we do the same for the y data\n",
    "y = pad_sequences(maxlen = max_len, sequences = y, padding = 'post', value = NO_TAG_IDX)\n"
   ]
  },
  {
   "cell_type": "markdown",
   "metadata": {},
   "source": [
    "## Task 2: One-Hot-Encoding\n",
    "\n",
    "Named entity recognition as done here is a multiclass classification problem: Each token is assigned one of more than two possible classes (`unique_tags` from before contains the list of classes). Multiclass classification problems are solved with neural networks, such that the network produces a vector of probabilities as output – one probability for each class. We can then easily extract the class with the highest probability as prediction.\n",
    "\n",
    "Therefore, we need to encode our $y$ data into the same format. Luckily, keras provides a function to use here: [`to_categorical()`](https://keras.io/api/utils/python_utils/#to_categorical-function). Use it to map our output integers into vectors. "
   ]
  },
  {
   "cell_type": "code",
   "execution_count": 4,
   "metadata": {},
   "outputs": [],
   "source": [
    "from tensorflow.keras.utils import to_categorical\n",
    "\n",
    "y = np.array([to_categorical(i, num_classes = num_words_tag) for i in  y])"
   ]
  },
  {
   "cell_type": "markdown",
   "metadata": {},
   "source": [
    "## Train / test split\n",
    "\n",
    "In contrast to our previous exercise, in which defined train and test data sets were given, we only have a single data set here. In these cases, we need to manually split the data set into training and test set. This can be done with a function from the library `scikit-learn`: [`train_test_split()`](https://scikit-learn.org/stable/modules/generated/sklearn.model_selection.train_test_split.html), which yields a list of multiple outputs as return values."
   ]
  },
  {
   "cell_type": "code",
   "execution_count": 5,
   "metadata": {},
   "outputs": [],
   "source": [
    "from sklearn.model_selection import train_test_split\n",
    "\n",
    "x_train, x_test, y_train, y_test = train_test_split(x, y, test_size = 0.1, random_state=1)"
   ]
  },
  {
   "cell_type": "markdown",
   "metadata": {},
   "source": [
    "## Task 3: Model Architecture\n",
    "\n",
    "Now we create the model architecture. You find a simple initial architecture below. Play around with it, try to improve its performance!\n",
    "\n",
    "Things to try:\n",
    "- Pretrained embeddings\n",
    "- Bidirectionality\n",
    "- More dense layers"
   ]
  },
  {
   "cell_type": "code",
   "execution_count": 10,
   "metadata": {},
   "outputs": [
    {
     "name": "stdout",
     "output_type": "stream",
     "text": [
      "Model: \"sequential_1\"\n",
      "_________________________________________________________________\n",
      "Layer (type)                 Output Shape              Param #   \n",
      "=================================================================\n",
      "embedding_1 (Embedding)      (None, 104, 1)            35179     \n",
      "_________________________________________________________________\n",
      "simple_rnn_1 (SimpleRNN)     (None, 104, 5)            35        \n",
      "_________________________________________________________________\n",
      "dense_1 (Dense)              (None, 104, 17)           102       \n",
      "=================================================================\n",
      "Total params: 35,316\n",
      "Trainable params: 35,316\n",
      "Non-trainable params: 0\n",
      "_________________________________________________________________\n"
     ]
    }
   ],
   "source": [
    "from tensorflow.keras import models, layers, optimizers\n",
    "\n",
    "model = models.Sequential()\n",
    "model.add(layers.InputLayer(input_shape = (max_len,)))\n",
    "model.add(layers.Embedding(input_dim = num_words, output_dim = 1, input_length = max_len))\n",
    "model.add(layers.SimpleRNN(units = 5, return_sequences = True))\n",
    "model.add(layers.Dense(num_words_tag, activation = 'softmax'))\n",
    "model.summary()\n",
    "\n",
    "model.compile(loss = 'categorical_crossentropy', metrics = ['accuracy'])"
   ]
  },
  {
   "cell_type": "markdown",
   "metadata": {},
   "source": [
    "Run the training"
   ]
  },
  {
   "cell_type": "code",
   "execution_count": 11,
   "metadata": {},
   "outputs": [
    {
     "name": "stdout",
     "output_type": "stream",
     "text": [
      "338/338 [==============================] - 6s 15ms/step - loss: 1.3894 - accuracy: 0.8939\n"
     ]
    }
   ],
   "source": [
    "history = model.fit(\n",
    "    x_train, np.array(y_train),\n",
    "    batch_size = 128,\n",
    "    epochs = 1,\n",
    "    verbose = 1\n",
    ")"
   ]
  },
  {
   "cell_type": "code",
   "execution_count": 12,
   "metadata": {
    "scrolled": true
   },
   "outputs": [
    {
     "name": "stdout",
     "output_type": "stream",
     "text": [
      "150/150 [==============================] - 1s 4ms/step - loss: 0.3856 - accuracy: 0.9678\n"
     ]
    },
    {
     "data": {
      "text/plain": [
       "[0.3855849802494049, 0.9677736163139343]"
      ]
     },
     "execution_count": 12,
     "metadata": {},
     "output_type": "execute_result"
    }
   ],
   "source": [
    "model.evaluate(x_test, np.array(y_test))"
   ]
  },
  {
   "cell_type": "markdown",
   "metadata": {},
   "source": [
    "## Evaluation by class"
   ]
  },
  {
   "cell_type": "markdown",
   "metadata": {},
   "source": [
    "So far, we have mostly looked at accuracy scores. For this task, however, this may not giving us the entire picture, because there are many different target classes, and the model might perform differently for them. So look at an evaluation by class. For this, the [function `classification_report(...)` from scikit-learn](https://scikit-learn.org/stable/modules/generated/sklearn.metrics.classification_report.html) can be used."
   ]
  },
  {
   "cell_type": "code",
   "execution_count": 9,
   "metadata": {},
   "outputs": [
    {
     "name": "stdout",
     "output_type": "stream",
     "text": [
      "              precision    recall  f1-score   support\n",
      "\n",
      "       B-art       0.00      0.00      0.00        48\n",
      "       B-eve       0.00      0.00      0.00        34\n",
      "       B-geo       0.00      0.00      0.00      3767\n",
      "       B-gpe       0.00      0.00      0.00      1607\n",
      "       B-nat       0.00      0.00      0.00        16\n",
      "       B-org       0.00      0.00      0.00      1948\n",
      "       B-per       0.00      0.00      0.00      1653\n",
      "       B-tim       0.00      0.00      0.00      2118\n",
      "       I-art       0.00      0.00      0.00        49\n",
      "       I-eve       0.00      0.00      0.00        30\n",
      "       I-geo       0.00      0.00      0.00       761\n",
      "       I-gpe       0.00      0.00      0.00        25\n",
      "       I-nat       0.00      0.00      0.00         6\n",
      "       I-org       0.00      0.00      0.00      1629\n",
      "       I-per       0.00      0.00      0.00      1695\n",
      "       I-tim       0.00      0.00      0.00       688\n",
      "           O       0.97      1.00      0.98    482710\n",
      "\n",
      "    accuracy                           0.97    498784\n",
      "   macro avg       0.06      0.06      0.06    498784\n",
      "weighted avg       0.94      0.97      0.95    498784\n",
      "\n"
     ]
    }
   ],
   "source": [
    "from sklearn.metrics import classification_report\n",
    "\n",
    "Y_test = np.argmax(y_test, axis=2)\n",
    "\n",
    "y_pred = np.argmax(model.predict(x_test), axis=2)\n",
    "\n",
    "\n",
    "print(classification_report(Y_test.flatten(), y_pred.flatten(), zero_division=0, target_names=unique_tags))"
   ]
  },
  {
   "cell_type": "code",
   "execution_count": null,
   "metadata": {},
   "outputs": [],
   "source": []
  }
 ],
 "metadata": {
  "kernelspec": {
   "display_name": "Python 3",
   "language": "python",
   "name": "python3"
  },
  "language_info": {
   "codemirror_mode": {
    "name": "ipython",
    "version": 3
   },
   "file_extension": ".py",
   "mimetype": "text/x-python",
   "name": "python",
   "nbconvert_exporter": "python",
   "pygments_lexer": "ipython3",
   "version": "3.8.6"
  }
 },
 "nbformat": 4,
 "nbformat_minor": 4
}
